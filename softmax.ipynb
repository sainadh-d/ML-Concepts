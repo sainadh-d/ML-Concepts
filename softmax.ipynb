{
 "cells": [
  {
   "cell_type": "code",
   "execution_count": 20,
   "id": "be077ef4-29a1-44e3-84da-1acce9f84f6a",
   "metadata": {},
   "outputs": [],
   "source": [
    "import torch\n",
    "from torch.nn import functional as F\n",
    "import matplotlib.pyplot as plt\n",
    "%matplotlib inline"
   ]
  },
  {
   "cell_type": "markdown",
   "id": "eb55a9b7-a463-48aa-affb-524902b0fa46",
   "metadata": {},
   "source": [
    "## Softmax\n",
    "The softmax function is a function that turns a vector of K real values into a vector of K real values that sum to 1\n",
    "Hence it helps in converting some values into probabilities. Typically converting logits to probabilities"
   ]
  },
  {
   "cell_type": "code",
   "execution_count": 6,
   "id": "4c340ee0-f0cc-4ff3-9252-6ce0e24519d0",
   "metadata": {},
   "outputs": [],
   "source": [
    "a = torch.randn(50)"
   ]
  },
  {
   "cell_type": "code",
   "execution_count": 9,
   "id": "70ae0b1a-8b22-4312-8c73-f69975daff2c",
   "metadata": {},
   "outputs": [
    {
     "name": "stdout",
     "output_type": "stream",
     "text": [
      "tensor([-1.2195,  1.2395, -0.3067, -0.8568,  0.2483,  0.6383, -0.2587, -0.1061,\n",
      "         0.2129, -0.7006,  0.5722,  0.9278, -0.1104,  0.8546, -0.1761, -1.5549,\n",
      "         0.4784,  0.5442, -1.9203,  0.1901,  0.4306, -0.0132,  2.1279,  0.1531,\n",
      "         1.2064,  1.1593,  0.2041,  2.5901, -1.1990,  1.1224,  0.9788,  1.9934,\n",
      "        -1.8697, -1.0991,  0.1994,  0.9286, -0.1066,  2.5766,  0.0829,  0.4909,\n",
      "        -0.3450,  0.0809, -0.4384, -0.1148,  0.0051,  0.2600,  1.1114,  0.2598,\n",
      "         1.0326,  1.8856])\n",
      "tensor(14.3898)\n"
     ]
    }
   ],
   "source": [
    "print(a)\n",
    "print(a.sum())"
   ]
  },
  {
   "cell_type": "code",
   "execution_count": 12,
   "id": "da8b2f26-08ad-489e-82d5-ec186404e792",
   "metadata": {},
   "outputs": [
    {
     "name": "stdout",
     "output_type": "stream",
     "text": [
      "A:  tensor([-1.2195,  1.2395, -0.3067, -0.8568,  0.2483,  0.6383, -0.2587, -0.1061,\n",
      "         0.2129, -0.7006,  0.5722,  0.9278, -0.1104,  0.8546, -0.1761, -1.5549,\n",
      "         0.4784,  0.5442, -1.9203,  0.1901,  0.4306, -0.0132,  2.1279,  0.1531,\n",
      "         1.2064,  1.1593,  0.2041,  2.5901, -1.1990,  1.1224,  0.9788,  1.9934,\n",
      "        -1.8697, -1.0991,  0.1994,  0.9286, -0.1066,  2.5766,  0.0829,  0.4909,\n",
      "        -0.3450,  0.0809, -0.4384, -0.1148,  0.0051,  0.2600,  1.1114,  0.2598,\n",
      "         1.0326,  1.8856])\n",
      "Softmax:  tensor([0.0026, 0.0309, 0.0066, 0.0038, 0.0115, 0.0169, 0.0069, 0.0081, 0.0111,\n",
      "        0.0044, 0.0159, 0.0226, 0.0080, 0.0210, 0.0075, 0.0019, 0.0144, 0.0154,\n",
      "        0.0013, 0.0108, 0.0138, 0.0088, 0.0752, 0.0104, 0.0299, 0.0285, 0.0110,\n",
      "        0.1193, 0.0027, 0.0275, 0.0238, 0.0657, 0.0014, 0.0030, 0.0109, 0.0227,\n",
      "        0.0080, 0.1177, 0.0097, 0.0146, 0.0063, 0.0097, 0.0058, 0.0080, 0.0090,\n",
      "        0.0116, 0.0272, 0.0116, 0.0251, 0.0590])\n",
      "Softmax Sum:  tensor(1.0000)\n"
     ]
    }
   ],
   "source": [
    "# Manual Softmax\n",
    "exp_a = a.exp()\n",
    "soft = exp_a / exp_a.sum()\n",
    "\n",
    "print(\"A: \", a)\n",
    "print(\"Softmax: \", soft)\n",
    "print(\"Softmax Sum: \", soft.sum())"
   ]
  },
  {
   "cell_type": "code",
   "execution_count": 17,
   "id": "28714e5d-74ec-40c7-88ec-bd4e45e9ff5a",
   "metadata": {},
   "outputs": [
    {
     "name": "stdout",
     "output_type": "stream",
     "text": [
      "A:  tensor([-1.2195,  1.2395, -0.3067, -0.8568,  0.2483,  0.6383, -0.2587, -0.1061,\n",
      "         0.2129, -0.7006,  0.5722,  0.9278, -0.1104,  0.8546, -0.1761, -1.5549,\n",
      "         0.4784,  0.5442, -1.9203,  0.1901,  0.4306, -0.0132,  2.1279,  0.1531,\n",
      "         1.2064,  1.1593,  0.2041,  2.5901, -1.1990,  1.1224,  0.9788,  1.9934,\n",
      "        -1.8697, -1.0991,  0.1994,  0.9286, -0.1066,  2.5766,  0.0829,  0.4909,\n",
      "        -0.3450,  0.0809, -0.4384, -0.1148,  0.0051,  0.2600,  1.1114,  0.2598,\n",
      "         1.0326,  1.8856])\n",
      "Torch Softmax:  tensor([0.0026, 0.0309, 0.0066, 0.0038, 0.0115, 0.0169, 0.0069, 0.0081, 0.0111,\n",
      "        0.0044, 0.0159, 0.0226, 0.0080, 0.0210, 0.0075, 0.0019, 0.0144, 0.0154,\n",
      "        0.0013, 0.0108, 0.0138, 0.0088, 0.0752, 0.0104, 0.0299, 0.0285, 0.0110,\n",
      "        0.1193, 0.0027, 0.0275, 0.0238, 0.0657, 0.0014, 0.0030, 0.0109, 0.0227,\n",
      "        0.0080, 0.1177, 0.0097, 0.0146, 0.0063, 0.0097, 0.0058, 0.0080, 0.0090,\n",
      "        0.0116, 0.0272, 0.0116, 0.0251, 0.0590])\n",
      "Torch Softmax Sum:  tensor(1.0000)\n"
     ]
    }
   ],
   "source": [
    "# Torch Softmax\n",
    "torch_soft = F.softmax(a, dim=0)\n",
    "\n",
    "print(\"A: \", a)\n",
    "print(\"Torch Softmax: \", torch_soft)\n",
    "print(\"Torch Softmax Sum: \", torch_soft.sum())"
   ]
  },
  {
   "cell_type": "code",
   "execution_count": 19,
   "id": "d468a949-ecb5-4683-8352-78e8a207d9da",
   "metadata": {},
   "outputs": [
    {
     "data": {
      "text/plain": [
       "True"
      ]
     },
     "execution_count": 19,
     "metadata": {},
     "output_type": "execute_result"
    }
   ],
   "source": [
    "# Test\n",
    "torch.allclose(soft, torch_soft)"
   ]
  },
  {
   "cell_type": "markdown",
   "id": "56750183-c4b7-412d-91a1-fb67b502873e",
   "metadata": {},
   "source": [
    "## Large Values in Softmax Kill the Gradient\n",
    "With large values in the input, Softmax makes most of the smaller values to be 0.\n",
    "This will kill the gradient in the backwards pass\n",
    "\n",
    "Consider\n",
    "```\n",
    "logits = layers(x)\n",
    "y = F.softmax(logits)\n",
    "loss = loss_fn(y)\n",
    "```\n",
    "then\n",
    "```\n",
    "dloss/dlogits = dloss/dy * dy/dlogits\n",
    "dloss/dlogits = dloss/dy * derivative_of_softmax(w.r.t logits)\n",
    "\n",
    "Derivative of softmax is \n",
    "if Si is the Softmax of the ith element in the vector and we are looking for its derivate w.r.t input element j\n",
    "Derivate is `Si(1 - Sj) i == j else -SiSj`\n",
    "```\n",
    "Because the Gradient depends on the Softmax value, if the Softmax value is 0, it kills the gradient.\n",
    "In below example, we can see that the Gradient is either 0 or 1 because of the extreme values in the Softmax"
   ]
  },
  {
   "cell_type": "code",
   "execution_count": 55,
   "id": "a199e4be-cb04-4000-adb5-67a6a2071bf6",
   "metadata": {},
   "outputs": [
    {
     "name": "stdout",
     "output_type": "stream",
     "text": [
      "tensor([ -63.5903,   16.2025, -120.2178,  104.2291, -277.3809,  -64.7700,\n",
      "        -261.1832,   71.8229,    9.0204,   40.9771,    3.1532,   -5.2061,\n",
      "          56.8112,   47.7146,  -59.3553, -199.6092,   -8.9208,   64.5662,\n",
      "          79.2030,  108.8731,  126.2075,   71.3321,  -21.7829,   67.5773,\n",
      "          -9.7138,  117.2434,   65.9385,  -80.5493,  230.9534, -118.3978,\n",
      "         151.8086,  -16.1134,  -70.7832,  -63.7035,  -65.5699,   64.5341,\n",
      "          46.6259,  -59.8172,  -13.6545,   78.5851,  243.4778,  123.3118,\n",
      "          13.9691,   80.5201,  -56.4978,  -28.0890,  133.6281, -119.1364,\n",
      "          47.7933,  -94.8868])\n"
     ]
    },
    {
     "data": {
      "image/png": "[encoded data removed]",
      "text/plain": [
       "<Figure size 640x480 with 1 Axes>"
      ]
     },
     "metadata": {},
     "output_type": "display_data"
    }
   ],
   "source": [
    "c = torch.randn(50) * 100\n",
    "tc = F.softmax(c, dim=0)\n",
    "\n",
    "print(c)\n",
    "plt.hist(c);"
   ]
  },
  {
   "cell_type": "code",
   "execution_count": 70,
   "id": "c9f76ca7-2aaf-444f-b2d6-522cbe5d344e",
   "metadata": {},
   "outputs": [
    {
     "data": {
      "text/plain": [
       "tensor(1)"
      ]
     },
     "execution_count": 70,
     "metadata": {},
     "output_type": "execute_result"
    },
    {
     "data": {
      "image/png": "[encoded data removed]",
      "text/plain": [
       "<Figure size 640x480 with 1 Axes>"
      ]
     },
     "metadata": {},
     "output_type": "display_data"
    }
   ],
   "source": [
    "plt.hist(tc);\n",
    "\n",
    "(tc > 0.01).sum()"
   ]
  },
  {
   "cell_type": "markdown",
   "id": "b4f36bef-1415-4b22-b572-ff2cdd5211bf",
   "metadata": {},
   "source": [
    "## Normalize\n",
    "\n",
    "Using Normalization we can prevent the gradient killing behavior of Softmax"
   ]
  },
  {
   "cell_type": "code",
   "execution_count": 102,
   "id": "565aef48-abc1-4c84-b09c-b12985d6b347",
   "metadata": {},
   "outputs": [
    {
     "name": "stdout",
     "output_type": "stream",
     "text": [
      "tensor([ -63.5903,   16.2025, -120.2178,  104.2291, -277.3809,  -64.7700,\n",
      "        -261.1832,   71.8229,    9.0204,   40.9771,    3.1532,   -5.2061,\n",
      "          56.8112,   47.7146,  -59.3553, -199.6092,   -8.9208,   64.5662,\n",
      "          79.2030,  108.8731,  126.2075,   71.3321,  -21.7829,   67.5773,\n",
      "          -9.7138,  117.2434,   65.9385,  -80.5493,  230.9534, -118.3978,\n",
      "         151.8086,  -16.1134,  -70.7832,  -63.7035,  -65.5699,   64.5341,\n",
      "          46.6259,  -59.8172,  -13.6545,   78.5851,  243.4778,  123.3118,\n",
      "          13.9691,   80.5201,  -56.4978,  -28.0890,  133.6281, -119.1364,\n",
      "          47.7933,  -94.8868])\n",
      "tensor([-0.6710,  0.0796, -1.2037,  0.9077, -2.6822, -0.6821, -2.5298,  0.6028,\n",
      "         0.0120,  0.3126, -0.0432, -0.1218,  0.4616,  0.3760, -0.6312, -1.9506,\n",
      "        -0.1568,  0.5345,  0.6722,  0.9513,  1.1144,  0.5982, -0.2778,  0.5629,\n",
      "        -0.1642,  1.0301,  0.5475, -0.8306,  2.0998, -1.1866,  1.3552, -0.2244,\n",
      "        -0.7387, -0.6721, -0.6897,  0.5342,  0.3658, -0.6355, -0.2013,  0.6664,\n",
      "         2.2176,  1.0872,  0.0586,  0.6846, -0.6043, -0.3371,  1.1842, -1.1936,\n",
      "         0.3768, -0.9655])\n",
      "tensor([0.0066, 0.0139, 0.0038, 0.0318, 0.0009, 0.0065, 0.0010, 0.0234, 0.0130,\n",
      "        0.0175, 0.0123, 0.0113, 0.0203, 0.0187, 0.0068, 0.0018, 0.0110, 0.0219,\n",
      "        0.0251, 0.0332, 0.0391, 0.0233, 0.0097, 0.0225, 0.0109, 0.0359, 0.0222,\n",
      "        0.0056, 0.1046, 0.0039, 0.0497, 0.0102, 0.0061, 0.0065, 0.0064, 0.0219,\n",
      "        0.0185, 0.0068, 0.0105, 0.0250, 0.1177, 0.0380, 0.0136, 0.0254, 0.0070,\n",
      "        0.0091, 0.0419, 0.0039, 0.0187, 0.0049])\n",
      "tensor(-7.1526e-09) tensor(1.)\n"
     ]
    }
   ],
   "source": [
    "norm_c = (c - c.mean()) / c.std()\n",
    "\n",
    "tnc = F.softmax(norm_c, dim=0)\n",
    "print(c)\n",
    "print(norm_c)\n",
    "print(tnc)\n",
    "print(norm_c.mean(), norm_c.std())"
   ]
  },
  {
   "cell_type": "code",
   "execution_count": 103,
   "id": "1c8f89f9-ccbd-4fc3-ad33-49c2f3a226d5",
   "metadata": {},
   "outputs": [
    {
     "data": {
      "image/png": "[encoded data removed]",
      "text/plain": [
       "<Figure size 640x480 with 1 Axes>"
      ]
     },
     "metadata": {},
     "output_type": "display_data"
    }
   ],
   "source": [
    "plt.hist(norm_c);"
   ]
  },
  {
   "cell_type": "code",
   "execution_count": 104,
   "id": "f1a938bc-35a6-4753-9a49-afcfed5105a1",
   "metadata": {},
   "outputs": [
    {
     "data": {
      "text/plain": [
       "tensor(32)"
      ]
     },
     "execution_count": 104,
     "metadata": {},
     "output_type": "execute_result"
    },
    {
     "data": {
      "image/png": "[encoded data removed]",
      "text/plain": [
       "<Figure size 640x480 with 1 Axes>"
      ]
     },
     "metadata": {},
     "output_type": "display_data"
    }
   ],
   "source": [
    "plt.hist(tnc);\n",
    "\n",
    "(tnc > 0.01).sum()"
   ]
  },
  {
   "cell_type": "markdown",
   "id": "872a1a36-b439-47a2-a6a2-396abdf11a02",
   "metadata": {},
   "source": [
    "## Fun Fact\n",
    "Mathematically the probabilities remain same when we offset the input by a constant value in Softmax.\n",
    "\n",
    "```\n",
    "X = [a, b]\n",
    "Softmax = [e^a / (e^a + e^b), e^b / (e^a + e^b)]\n",
    "Y = [a - k, b - k]\n",
    "Softmax = [e^a-k / (e^a-k + e^b-k), e^b-k / (e^a-k + e^b-k)]\n",
    "```\n",
    "The power `e^k` gets cancelled out and we get the same expression"
   ]
  },
  {
   "cell_type": "code",
   "execution_count": 108,
   "id": "c28dacb7-c5fe-449b-94a7-3dced0a4f96a",
   "metadata": {},
   "outputs": [
    {
     "data": {
      "text/plain": [
       "(tensor([2.5521e-05, 3.7778e-02, 3.4095e-01, 6.2125e-01]),\n",
       " tensor([2.5521e-05, 3.7778e-02, 3.4095e-01, 6.2125e-01]))"
      ]
     },
     "execution_count": 108,
     "metadata": {},
     "output_type": "execute_result"
    }
   ],
   "source": [
    "X = torch.tensor([-5.1, 2.2, 4.4, 5])\n",
    "Y = X.clone() + 30\n",
    "\n",
    "probs1 = X.exp() / X.exp().sum()\n",
    "probs2 = Y.exp() / Y.exp().sum()\n",
    "\n",
    "probs1, probs2"
   ]
  },
  {
   "cell_type": "code",
   "execution_count": null,
   "id": "da8dfcbb-ca50-46ea-a0cf-307f37ca8411",
   "metadata": {},
   "outputs": [],
   "source": []
  }
 ],
 "metadata": {
  "kernelspec": {
   "display_name": "Python 3 (ipykernel)",
   "language": "python",
   "name": "python3"
  },
  "language_info": {
   "codemirror_mode": {
    "name": "ipython",
    "version": 3
   },
   "file_extension": ".py",
   "mimetype": "text/x-python",
   "name": "python",
   "nbconvert_exporter": "python",
   "pygments_lexer": "ipython3",
   "version": "3.11.9"
  },
  "widgets": {
   "application/vnd.jupyter.widget-state+json": {
    "state": {},
    "version_major": 2,
    "version_minor": 0
   }
  }
 },
 "nbformat": 4,
 "nbformat_minor": 5
}
