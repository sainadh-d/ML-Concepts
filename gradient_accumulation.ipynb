{
 "cells": [
  {
   "cell_type": "markdown",
   "id": "a38b6cbd-16fd-4845-b075-e981e04d2878",
   "metadata": {},
   "source": [
    "# Gradient Accumulation\n",
    "Deep learning models are getting bigger and bigger. For training it becomes difficult to fit large batches as we might run out of GPU Memory. As a result, we are sometimes forced to use small batches during training, which may lead to a slower convergence and lower accuracy.\n",
    "\n",
    "Gradient accumulation allows us to increase the effective batch size. We will use a small batch size but save the gradients and update network weights once every few of batches.\n",
    "\n",
    "Below is a Gradient Accumulation example using MNIST"
   ]
  },
  {
   "cell_type": "code",
   "execution_count": 1,
   "id": "35c1dc1d-4824-46e7-be6b-52632648fcce",
   "metadata": {},
   "outputs": [],
   "source": [
    "import idx2numpy\n",
    "import numpy as np\n",
    "import matplotlib as plt\n",
    "%matplotlib inline\n",
    "\n",
    "import torch\n",
    "import torch.nn as nn\n",
    "from tqdm import trange\n",
    "\n",
    "from pylab import *"
   ]
  },
  {
   "cell_type": "code",
   "execution_count": 6,
   "id": "ff34367d-0545-49de-b7b2-db64cdb59b8e",
   "metadata": {},
   "outputs": [],
   "source": [
    "train_file = '../data/mnist/train-images-idx3-ubyte'\n",
    "train_labels = '../data/mnist/train-labels-idx1-ubyte'\n",
    "test_file = '../data/mnist/t10k-images-idx3-ubyte'\n",
    "test_labels = '../data/mnist/t10k-labels-idx1-ubyte'\n",
    "x_train = idx2numpy.convert_from_file(train_file)\n",
    "y_train = idx2numpy.convert_from_file(train_labels)\n",
    "x_test = idx2numpy.convert_from_file(test_file)\n",
    "y_test = idx2numpy.convert_from_file(test_labels)"
   ]
  },
  {
   "cell_type": "code",
   "execution_count": 7,
   "id": "9c017968-7c7d-4866-b8bb-08cf885a6125",
   "metadata": {},
   "outputs": [
    {
     "data": {
      "text/plain": [
       "(<matplotlib.image.AxesImage at 0x168c63310>, 4)"
      ]
     },
     "execution_count": 7,
     "metadata": {},
     "output_type": "execute_result"
    },
    {
     "data": {
      "image/png": "[encoded data removed]",
      "text/plain": [
       "<Figure size 640x480 with 1 Axes>"
      ]
     },
     "metadata": {},
     "output_type": "display_data"
    }
   ],
   "source": [
    "plt.imshow(x_train[20]), y_train[20]"
   ]
  },
  {
   "cell_type": "code",
   "execution_count": 8,
   "id": "0b790e5b-641a-4535-b3ee-8f561dbf8037",
   "metadata": {},
   "outputs": [
    {
     "data": {
      "text/plain": [
       "((60000, 28, 28), (60000,), (10000, 28, 28), (10000,))"
      ]
     },
     "execution_count": 8,
     "metadata": {},
     "output_type": "execute_result"
    }
   ],
   "source": [
    "x_train.shape, y_train.shape, x_test.shape, y_test.shape"
   ]
  },
  {
   "cell_type": "code",
   "execution_count": 9,
   "id": "4887ab0f-9cda-443f-b868-c467cf201ce7",
   "metadata": {},
   "outputs": [],
   "source": [
    "class ImageNet(nn.Module):\n",
    "    def __init__(self):\n",
    "        super().__init__()\n",
    "        self.l1 = nn.Linear(784, 128)\n",
    "        self.l2 = nn.ReLU()\n",
    "        self.l3 = nn.Linear(128, 10)\n",
    "\n",
    "    def forward(self, x):\n",
    "        x = self.l1(x)\n",
    "        x = self.l2(x)\n",
    "        x = self.l3(x)\n",
    "        return x"
   ]
  },
  {
   "cell_type": "code",
   "execution_count": 17,
   "id": "54416402-0720-4320-a809-f6a86cbd21bf",
   "metadata": {},
   "outputs": [],
   "source": [
    "def print_accuracy(model, x_test, y_test):\n",
    "    x_test = torch.tensor(x_test.reshape(-1, 28*28)).float()\n",
    "    y_test = torch.tensor(y_test)\n",
    "    # Model is trained now\n",
    "    # Call it on Test Data and see the accuracy\n",
    "    labels = model(x_test).argmax(1)\n",
    "    accuracy = (labels == y_test).float().mean()\n",
    "    print(f\"Test Accuracy: {accuracy}\")"
   ]
  },
  {
   "cell_type": "markdown",
   "id": "0ef5e5be-3dd6-4f16-824f-489366e4165f",
   "metadata": {},
   "source": [
    "## Training without Gradient Accumulation\n",
    "Parameters: \n",
    "- Mini Batch Size (per forward pass) = 32"
   ]
  },
  {
   "cell_type": "code",
   "execution_count": 14,
   "id": "91546a66-c767-4689-9640-678953d806ef",
   "metadata": {},
   "outputs": [],
   "source": [
    "# Training without Gradient Accumulation\n",
    "def train_without_grad_accum(model, x_train, y_train):\n",
    "    # Data Preprocess\n",
    "    x_train = torch.tensor(x_train.reshape(-1, 28*28)).float()\n",
    "    y_train = torch.tensor(y_train)\n",
    "    \n",
    "    # Training Loop\n",
    "    iters = 5000\n",
    "    batch_size = 32\n",
    "    optimizer = torch.optim.Adam(model.parameters())\n",
    "    \n",
    "    loss_fn = nn.CrossEntropyLoss()\n",
    "    \n",
    "    for i in (t := trange(iters)):\n",
    "        # Batches\n",
    "        ix = torch.randint(0, x_train.shape[0], (batch_size, ))\n",
    "        x, y = x_train[ix], y_train[ix]\n",
    "        \n",
    "        # Forward pass\n",
    "        out = model(x)\n",
    "    \n",
    "        # Calc Loss\n",
    "        loss = loss_fn(out, y)\n",
    "        \n",
    "        accuracy = (torch.argmax(out, dim=1) == y).float().mean()\n",
    "        t.set_description(f\"loss: {loss.item()}, acc: {accuracy}\")\n",
    "    \n",
    "        # Zero grad\n",
    "        optimizer.zero_grad()\n",
    "    \n",
    "        # Backward Pass\n",
    "        loss.backward()\n",
    "    \n",
    "        # Update Gradients\n",
    "        optimizer.step()"
   ]
  },
  {
   "cell_type": "code",
   "execution_count": 19,
   "id": "4241d8ea-bdd7-4dd8-bba9-4bff726229ad",
   "metadata": {},
   "outputs": [
    {
     "name": "stderr",
     "output_type": "stream",
     "text": [
      "loss: 0.08066586405038834, acc: 0.96875: 100%|█████████████████████████████████████████████████████████████████████████████████████████████████████████████████████████████████████████████████████████████████████████████| 5000/5000 [00:06<00:00, 723.30it/s]\n"
     ]
    },
    {
     "name": "stdout",
     "output_type": "stream",
     "text": [
      "Test Accuracy: 0.947700023651123\n"
     ]
    }
   ],
   "source": [
    "model1 = ImageNet()\n",
    "train_without_grad_accum(model1, x_train, y_train)\n",
    "print_accuracy(model1, x_test, y_test)"
   ]
  },
  {
   "cell_type": "markdown",
   "id": "6e14c25e-81e1-4c23-82e0-cff49558816c",
   "metadata": {},
   "source": [
    "## Training with Gradient Accumulation\n",
    "Parameters: \n",
    "- Mini Batch Size = 256\n",
    "- Micro Batch Size (per forward pass) = 32\n",
    "- Gradient Accumulation Steps = 8 (256 / 32)\n",
    "\n",
    "One thing to keep in mind is that the averaged loss calculation has to be updated as the loss that comes out of `loss_fn` only computes the average based on micro_batch_size.\n",
    "```\n",
    "loss -> Averaged for 32 samples (micro batch), but the batch size to consider to compute the entire loss for the batch is 256.\n",
    "updated_loss = loss / grad_accum_steps\n",
    "```"
   ]
  },
  {
   "cell_type": "code",
   "execution_count": 20,
   "id": "10196d61-d165-4ce7-b116-54ccffd707a8",
   "metadata": {},
   "outputs": [],
   "source": [
    "# Training without Gradient Accumulation\n",
    "def train_with_grad_accum(model, x_train, y_train):\n",
    "    # Data Preprocess\n",
    "    x_train = torch.tensor(x_train.reshape(-1, 28*28)).float()\n",
    "    y_train = torch.tensor(y_train)\n",
    "    \n",
    "    # Training Loop\n",
    "    iters = 5000\n",
    "    batch_size = 256\n",
    "    micro_batch_size = 32\n",
    "    grad_accum_steps = batch_size // micro_batch_size\n",
    "    optimizer = torch.optim.Adam(model.parameters())\n",
    "\n",
    "    print(f\"Mini Batch Size: {batch_size}, Micro Batch Size: {micro_batch_size}, Grad Accum Steps: {grad_accum_steps}\")\n",
    "    \n",
    "    loss_fn = nn.CrossEntropyLoss()\n",
    "    \n",
    "    for i in (t := trange(iters)):\n",
    "        # Zero grad\n",
    "        optimizer.zero_grad()\n",
    "        loss_accum = 0.0\n",
    "        for step in range(grad_accum_steps):\n",
    "            # Micro Batches\n",
    "            ix = torch.randint(0, x_train.shape[0], (micro_batch_size, ))\n",
    "            x, y = x_train[ix], y_train[ix]\n",
    "            \n",
    "            # Forward pass\n",
    "            out = model(x)\n",
    "        \n",
    "            # Calc Loss\n",
    "            loss = loss_fn(out, y)\n",
    "\n",
    "            loss = loss / grad_accum_steps\n",
    "\n",
    "            loss_accum += loss.detach()\n",
    "\n",
    "            # Backward Pass\n",
    "            loss.backward()\n",
    "\n",
    "        t.set_description(f\"loss: {loss_accum.item()}\")\n",
    "\n",
    "        # Update Weights only after Gradients are accumulated\n",
    "        optimizer.step()"
   ]
  },
  {
   "cell_type": "code",
   "execution_count": 22,
   "id": "70c55260-3a30-4715-ba49-477d905ecc34",
   "metadata": {},
   "outputs": [
    {
     "name": "stdout",
     "output_type": "stream",
     "text": [
      "Mini Batch Size: 256, Micro Batch Size: 32, Grad Accum Steps: 8\n"
     ]
    },
    {
     "name": "stderr",
     "output_type": "stream",
     "text": [
      "loss: 0.04732232913374901: 100%|███████████████████████████████████████████████████████████████████████████████████████████████████████████████████████████████████████████████████████████████████████████████████████████| 5000/5000 [00:18<00:00, 274.17it/s]\n"
     ]
    }
   ],
   "source": [
    "model2 = ImageNet()\n",
    "train_with_grad_accum(model2, x_train, y_train)\n",
    "# print_accuracy(model1, x_test, y_test)"
   ]
  },
  {
   "cell_type": "code",
   "execution_count": 23,
   "id": "f5657602-9574-4bb0-aec0-a7364c7d6a78",
   "metadata": {},
   "outputs": [
    {
     "name": "stdout",
     "output_type": "stream",
     "text": [
      "Test Accuracy: 0.961899995803833\n"
     ]
    }
   ],
   "source": [
    "print_accuracy(model2, x_test, y_test)"
   ]
  },
  {
   "cell_type": "markdown",
   "id": "ec17efd5-379b-4d52-afcc-b31be6218d1a",
   "metadata": {},
   "source": [
    "#### Note: Accuracy Increased with Bigger batch sizes per iteration"
   ]
  },
  {
   "cell_type": "code",
   "execution_count": null,
   "id": "80171521-5561-47a8-97ca-440c07cafaad",
   "metadata": {},
   "outputs": [],
   "source": []
  }
 ],
 "metadata": {
  "kernelspec": {
   "display_name": "Python 3 (ipykernel)",
   "language": "python",
   "name": "python3"
  },
  "language_info": {
   "codemirror_mode": {
    "name": "ipython",
    "version": 3
   },
   "file_extension": ".py",
   "mimetype": "text/x-python",
   "name": "python",
   "nbconvert_exporter": "python",
   "pygments_lexer": "ipython3",
   "version": "3.11.9"
  },
  "widgets": {
   "application/vnd.jupyter.widget-state+json": {
    "state": {},
    "version_major": 2,
    "version_minor": 0
   }
  }
 },
 "nbformat": 4,
 "nbformat_minor": 5
}
